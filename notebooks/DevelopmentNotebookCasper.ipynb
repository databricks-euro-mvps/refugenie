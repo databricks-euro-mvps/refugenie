{
 "cells": [
  {
   "cell_type": "code",
   "execution_count": 0,
   "metadata": {
    "application/vnd.databricks.v1+cell": {
     "cellMetadata": {
      "byteLimit": 2048000,
      "rowLimit": 10000
     },
     "inputWidgets": {},
     "nuid": "4d026296-d8f6-4932-a54d-c98ac7e16a4c",
     "showTitle": false,
     "tableResultSettingsMap": {},
     "title": ""
    }
   },
   "outputs": [],
   "source": [
    "gmap = spark.read.table(\"hackathon.bright_initiative.google_maps_businesses\")\n",
    "filtered = gmap.where(F.col('category').isin([\n",
    "    \"Immigration & naturalization service\",\n",
    "    \"Immigration attorney\",\n",
    "    \"Visa and passport office\",\n",
    "    \"Visa consultant\",\n",
    "    \"Visa consulting service\"\n",
    "    ])).count()\n",
    "\n",
    "\n",
    "\n",
    "# ngmap = spark.read.table(\"hackathon.nimble.dbx_google_maps_reviews_daily\")\n",
    "# ngmap.count()\n"
   ]
  },
  {
   "cell_type": "code",
   "execution_count": 0,
   "metadata": {
    "application/vnd.databricks.v1+cell": {
     "cellMetadata": {
      "byteLimit": 2048000,
      "rowLimit": 10000
     },
     "inputWidgets": {},
     "nuid": "14a7efab-a309-47c6-8c3d-239145e1126a",
     "showTitle": false,
     "tableResultSettingsMap": {},
     "title": ""
    }
   },
   "outputs": [],
   "source": [
    "\n",
    "\n",
    "\n",
    "\n",
    "# Order by:\n",
    "# -- highest rated\n",
    "# -- operational status\n",
    "# -- proximity\n",
    "\n",
    "\n",
    "\n",
    "###### for people new in the country.\n",
    "## reunification_process\n",
    "\n",
    "\n",
    "\n",
    "## resident permit renewal\n",
    "## apply housing\n",
    "\n",
    "\n",
    "\n",
    "# USECASE #1 \n",
    "# I'm on a legal permit in a country and want to be reunified with my family. How does this process look? and help me out there connecting with the right instituations / persons to aid me in this process.\n",
    "# - it will give you the steps. And will provide you a recommendation on nearby legal advice that are most relevant to your query.\n",
    "\n",
    "\n",
    "\n",
    "\n",
    "# USECASE #2 \n",
    "# Finding healthcare in a foreign country is relatively straightforward: What I instead need to find is healthcare, that is both free or affordable AND also speaks my language.\n",
    "\n",
    "\n",
    "\n",
    "\n",
    "\n",
    "\n",
    "\n",
    "\n",
    "#### Navigation recommendation\n",
    "## OK How do I get there?\n",
    "\n",
    "\n",
    "\n",
    "# different usecaseS:\n",
    "\n",
    "# The live in a country starter pack\n",
    "# ----------\n",
    "\n",
    "# I'm a student visa in the US\n",
    "\n",
    "\n",
    "# A foreigner is a student looking for a job, \n",
    "\n",
    "# Jose from San Jose is asking \n",
    "\n",
    "\n",
    "\n",
    "##### Fil in your situation:\n",
    "# - you're a person with X year of age\n",
    "# -- with partner? --> has work? \n",
    "# -- with kids? --> ages?\n",
    "# -- with pets?\n",
    "\n",
    "# ---- REQUIRED: \n",
    "\n",
    "# ------ will\n",
    "\n",
    "\n",
    "# give me housing that is applicable \n",
    "\n",
    "# --- gives you the size and setup of the family\n",
    "# --- if a vet or some particular taxes are needed\n",
    "# -----> what kind of adminstrative tasks apply to your situation?\n",
    "\n",
    "\n",
    "\n",
    "# - person that is looking for education\n",
    "# - person that is looking for healthcare\n",
    "# - person of having their family join them in the country\n",
    "# - person that is looking for a place to live\n",
    "\n"
   ]
  },
  {
   "cell_type": "code",
   "execution_count": 0,
   "metadata": {
    "application/vnd.databricks.v1+cell": {
     "cellMetadata": {
      "byteLimit": 2048000,
      "rowLimit": 10000
     },
     "inputWidgets": {},
     "nuid": "5b706516-6f5c-4d92-8498-0a46bcfd6025",
     "showTitle": false,
     "tableResultSettingsMap": {},
     "title": ""
    }
   },
   "outputs": [],
   "source": [
    "import pyspark.sql.functions as F\n",
    "\n",
    "sdf = spark.read.table(\"hackathon.bright_initiative.google_maps_businesses\")\n"
   ]
  },
  {
   "cell_type": "code",
   "execution_count": 0,
   "metadata": {
    "application/vnd.databricks.v1+cell": {
     "cellMetadata": {},
     "inputWidgets": {},
     "nuid": "25bebee3-fe29-42a2-ad13-0e6c63d8d37c",
     "showTitle": false,
     "tableResultSettingsMap": {},
     "title": ""
    }
   },
   "outputs": [],
   "source": [
    "import json\n",
    "\n",
    "MODEL_IDENTIFIER = \"databricks-meta-llama-3-3-70b-instruct\"\n",
    "prompt = (\n",
    "    \"You will receive a lot of words but you need to label them if they're either HEALTH or EDUCATION related. If they're NOT related to EITHER of those domains label it as UNKNOWN.\"\n",
    ")\n",
    "\n",
    "\n",
    "escaped_prompt = json.dumps(prompt)\n",
    "\n",
    "sdf = spark.read.table(\"hackathon.bright_initiative.google_maps_businesses\")\n",
    "\n",
    "df = df.withColumn(\"LLM_column\", concat_expr)\n",
    "df = df.withColumn(\n",
    "    \"prompt_column\", F.concat(F.lit(escaped_prompt), F.col(\"LLM_column\"))\n",
    ")\n",
    "print(df.select('prompt_column').distinct().count())"
   ]
  }
 ],
 "metadata": {
  "application/vnd.databricks.v1+notebook": {
   "computePreferences": null,
   "dashboards": [],
   "environmentMetadata": {
    "base_environment": "",
    "environment_version": "2"
   },
   "inputWidgetPreferences": null,
   "language": "python",
   "notebookMetadata": {
    "pythonIndentUnit": 4
   },
   "notebookName": "DevelopmentNotebookCasper",
   "widgets": {}
  },
  "language_info": {
   "name": "python"
  }
 },
 "nbformat": 4,
 "nbformat_minor": 0
}
