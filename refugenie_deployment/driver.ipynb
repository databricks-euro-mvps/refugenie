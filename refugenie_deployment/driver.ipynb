{
 "cells": [
  {
   "cell_type": "code",
   "execution_count": 0,
   "metadata": {
    "application/vnd.databricks.v1+cell": {
     "cellMetadata": {
      "byteLimit": 2048000,
      "rowLimit": 10000
     },
     "inputWidgets": {},
     "nuid": "6dd31f3d-10a5-46ce-9bfc-5ac3e007c01d",
     "showTitle": false,
     "tableResultSettingsMap": {},
     "title": ""
    }
   },
   "outputs": [],
   "source": [
    "!pip install databricks-sdk==0.52.0 mlflow==2.22.0 databricks-agents==0.22.0 openai uv --quiet\n",
    "dbutils.library.restartPython()"
   ]
  },
  {
   "cell_type": "code",
   "execution_count": 0,
   "metadata": {
    "application/vnd.databricks.v1+cell": {
     "cellMetadata": {
      "byteLimit": 2048000,
      "rowLimit": 10000
     },
     "inputWidgets": {},
     "nuid": "9a1ad3fb-01ab-423d-b334-4c84d96772c2",
     "showTitle": false,
     "tableResultSettingsMap": {},
     "title": ""
    }
   },
   "outputs": [],
   "source": [
    "from agent import agent \n",
    "#from agent import agent\n",
    "agent.predict({\"messages\": [{\"role\": \"user\", \"content\": \"Are there any long term housing options available?\"}]})"
   ]
  },
  {
   "cell_type": "code",
   "execution_count": 0,
   "metadata": {
    "application/vnd.databricks.v1+cell": {
     "cellMetadata": {
      "byteLimit": 2048000,
      "rowLimit": 10000
     },
     "inputWidgets": {},
     "nuid": "09d96720-7e90-4c7d-a752-b5dfc9e954e7",
     "showTitle": false,
     "tableResultSettingsMap": {},
     "title": ""
    }
   },
   "outputs": [],
   "source": [
    "from agent import agent \n",
    "#from agent import agent\n",
    "agent.predict({\"messages\": [{\"role\": \"user\", \"content\": \"How to get started with reunifying process?\"}]})"
   ]
  },
  {
   "cell_type": "code",
   "execution_count": 0,
   "metadata": {
    "application/vnd.databricks.v1+cell": {
     "cellMetadata": {
      "byteLimit": 2048000,
      "rowLimit": 10000
     },
     "inputWidgets": {},
     "nuid": "fe93caa1-ebf7-4759-afc8-70f4bd819e6a",
     "showTitle": false,
     "tableResultSettingsMap": {},
     "title": ""
    }
   },
   "outputs": [],
   "source": [
    "for event in agent.predict_stream(\n",
    "    {\"messages\": [{\"role\": \"user\", \"content\": \"Can you tell me a joke?\"}]}\n",
    "):\n",
    "    print(event, \"-----------\\n\")"
   ]
  },
  {
   "cell_type": "code",
   "execution_count": 0,
   "metadata": {
    "application/vnd.databricks.v1+cell": {
     "cellMetadata": {
      "byteLimit": 2048000,
      "rowLimit": 10000
     },
     "inputWidgets": {},
     "nuid": "7ed54a2f-0d57-4d56-b824-1cb966ec9264",
     "showTitle": false,
     "tableResultSettingsMap": {},
     "title": ""
    }
   },
   "outputs": [],
   "source": [
    "# Determine Databricks resources to specify for automatic auth passthrough at deployment time\n",
    "import mlflow\n",
    "from mlflow.models.auth_policy import SystemAuthPolicy, UserAuthPolicy, AuthPolicy\n",
    "\n",
    "from mlflow.models.resources import (\n",
    "  DatabricksVectorSearchIndex,\n",
    "  DatabricksServingEndpoint,\n",
    "  DatabricksSQLWarehouse,\n",
    "  DatabricksFunction,\n",
    "  DatabricksGenieSpace,\n",
    "  DatabricksTable,\n",
    "  DatabricksUCConnection\n",
    ")\n",
    "\n",
    "resources = [DatabricksServingEndpoint(endpoint_name='demo2')]\n",
    "\n",
    "\n",
    "# Specify resources here for system authentication\n",
    "system_auth_policy = SystemAuthPolicy(resources=resources)\n",
    "\n",
    "# Specify the minimal set of API scopes needed for on-behalf-of-user authentication\n",
    "# When deployed, the agent can access Databricks resources and APIs\n",
    "# on behalf of the end user, but only via REST APIs that are covered by the list of\n",
    "# scopes below\n",
    "\n",
    "user_auth_policy = UserAuthPolicy(\n",
    "    api_scopes=[\n",
    "        \"dashboards.genie\"\n",
    "    ]\n",
    ")\n",
    "\n",
    "input_example = {\n",
    "    \"messages\": [\n",
    "        {\n",
    "            \"role\": \"user\",\n",
    "            \"content\": \"Tell me a joke\"\n",
    "        }\n",
    "    ]\n",
    "}\n",
    "\n",
    "with mlflow.start_run():\n",
    "    logged_agent_info = mlflow.pyfunc.log_model(\n",
    "        artifact_path=\"agent\",\n",
    "        python_model=\"agent.py\",\n",
    "        code_paths=[\"./src\"],\n",
    "        input_example=input_example,\n",
    "        pip_requirements=[\n",
    "            \"mlflow==2.22.0\",\n",
    "            \"databricks-sdk==0.52.0\",\n",
    "            \"openai==1.69.0\",\n",
    "            \"pydantic\",\n",
    "            # \"llama-index==0.12.41\",\n",
    "            # \"llama-index-llms-databricks==0.3.2\",\n",
    "            # \"llama-index-tools-mcp==0.2.5\",\n",
    "            # \"python-dotenv==1.1.0\",\n",
    "            # \"async\"\n",
    "        ],\n",
    "        auth_policy=AuthPolicy(\n",
    "            system_auth_policy=system_auth_policy,\n",
    "            user_auth_policy=user_auth_policy\n",
    "        )\n",
    "    )\n"
   ]
  },
  {
   "cell_type": "code",
   "execution_count": 0,
   "metadata": {
    "application/vnd.databricks.v1+cell": {
     "cellMetadata": {},
     "inputWidgets": {},
     "nuid": "1b059c4f-ee4b-4c86-8d2d-86da7fc1a4f8",
     "showTitle": false,
     "tableResultSettingsMap": {},
     "title": ""
    }
   },
   "outputs": [],
   "source": [
    "# import asyncio\n",
    "# from llama_index.llms.databricks import Databricks\n",
    "# from databricks.sdk import WorkspaceClient\n",
    "# import mlflow\n",
    "# from dotenv import load_dotenv\n",
    "# from llama_index.tools.mcp import BasicMCPClient, McpToolSpec\n",
    "# import os\n",
    "# from llama_index.core.agent.workflow import ReActAgent\n",
    "\n",
    "# class NimbleResearchAgent:\n",
    "#     def __init__(self, nimble_api_key, databricks_model=\"demo2\"):\n",
    "#         self.nimble_api_key = nimble_api_key\n",
    "#         self.databricks_model = databricks_model\n",
    "#         self.agent = None\n",
    "#         self.tools = None\n",
    "        \n",
    "#     async def setup(self):\n",
    "#         \"\"\"Set up the agent with Nimble tools and Databricks LLM.\"\"\"\n",
    "#         # Set up Nimble tools\n",
    "#         self.tools = await self._setup_nimble_tools()\n",
    "        \n",
    "#         # Set up Databricks LLM\n",
    "#         w = WorkspaceClient()\n",
    "#         tmp_token = w.tokens.create(comment=\"for model serving\", lifetime_seconds=1200).token_value\n",
    "        \n",
    "#         llm = Databricks(\n",
    "#             model=self.databricks_model,\n",
    "#             api_key=tmp_token,\n",
    "#             api_base=f\"{w.config.host}/serving-endpoints/\"\n",
    "#         )\n",
    "        \n",
    "#         # Create the agent\n",
    "#         self.agent = ReActAgent(\n",
    "#             tools=self.tools,\n",
    "#             llm=llm,\n",
    "#             system_prompt=\"\"\"You are a helpful research assistant with access to web scraping and data collection tools. \n",
    "#             Always explain your answer in the final output. Tell the user which tools you used and how you found the information.\"\"\",\n",
    "#         )\n",
    "        \n",
    "#         return self\n",
    "        \n",
    "#     async def _setup_nimble_tools(self):\n",
    "#         \"\"\"Set up and return the Nimble tools.\"\"\"\n",
    "#         mcp_client = BasicMCPClient(\n",
    "#             \"https://mcp.nimbleway.com/sse\",\n",
    "#             headers={\"Authorization\": f\"Bearer {self.nimble_api_key}\"}\n",
    "#         )\n",
    "        \n",
    "#         mcp_tool_spec = McpToolSpec(\n",
    "#             client=mcp_client,\n",
    "#             # Optional: filter to specific tools\n",
    "#             # allowed_tools=[\"nimble_web_search\", \"nimble_google_maps_search\"]\n",
    "#         )\n",
    "        \n",
    "#         tools = await mcp_tool_spec.to_tool_list_async()\n",
    "        \n",
    "#         print(f\"Loaded {len(tools)} Nimble tools:\")\n",
    "#         for tool in tools:\n",
    "#             print(f\"- {tool.metadata.name}: {tool.metadata.description}\")\n",
    "        \n",
    "#         return tools\n",
    "    \n",
    "#     async def run_query(self, query):\n",
    "#         \"\"\"\n",
    "#         Run a query through the agent.\n",
    "        \n",
    "#         Args:\n",
    "#             query: The query string to process\n",
    "            \n",
    "#         Returns:\n",
    "#             The agent's response\n",
    "#         \"\"\"\n",
    "#         if not self.agent:\n",
    "#             raise ValueError(\"Agent not initialized. Call setup() first.\")\n",
    "        \n",
    "#         return await self.agent.run(query)\n",
    "\n"
   ]
  },
  {
   "cell_type": "code",
   "execution_count": 0,
   "metadata": {
    "application/vnd.databricks.v1+cell": {
     "cellMetadata": {
      "byteLimit": 2048000,
      "rowLimit": 10000
     },
     "inputWidgets": {},
     "nuid": "c6386e26-ab02-4007-a551-85a60fb578e3",
     "showTitle": false,
     "tableResultSettingsMap": {},
     "title": ""
    }
   },
   "outputs": [],
   "source": [
    "mlflow.set_registry_uri(\"databricks-uc\")\n",
    "\n",
    "# TODO: define the catalog, schema, and model name for your UC model\n",
    "catalog = \"workspace\"\n",
    "schema = \"default\"\n",
    "model_name = \"refu_genie\"\n",
    "UC_MODEL_NAME = f\"{catalog}.{schema}.{model_name}\"\n",
    "\n",
    "# register the model to UC\n",
    "uc_registered_model_info = mlflow.register_model(\n",
    "    model_uri=logged_agent_info.model_uri, name=UC_MODEL_NAME\n",
    ")"
   ]
  },
  {
   "cell_type": "code",
   "execution_count": 0,
   "metadata": {
    "application/vnd.databricks.v1+cell": {
     "cellMetadata": {
      "byteLimit": 2048000,
      "rowLimit": 10000
     },
     "inputWidgets": {},
     "nuid": "3913b4d8-318c-4cfc-a46d-f4d77b3f298d",
     "showTitle": false,
     "tableResultSettingsMap": {},
     "title": ""
    }
   },
   "outputs": [],
   "source": [
    "from databricks import agents\n",
    "agents.deploy(UC_MODEL_NAME, uc_registered_model_info.version, tags = {\"endpointSource\": \"playground\"})"
   ]
  }
 ],
 "metadata": {
  "application/vnd.databricks.v1+notebook": {
   "computePreferences": null,
   "dashboards": [],
   "environmentMetadata": {
    "base_environment": "",
    "environment_version": "2"
   },
   "inputWidgetPreferences": null,
   "language": "python",
   "notebookMetadata": {
    "pythonIndentUnit": 4
   },
   "notebookName": "driver",
   "widgets": {}
  },
  "language_info": {
   "name": "python"
  }
 },
 "nbformat": 4,
 "nbformat_minor": 0
}
