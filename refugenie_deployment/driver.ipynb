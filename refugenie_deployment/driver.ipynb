{
 "cells": [
  {
   "cell_type": "code",
   "execution_count": 0,
   "metadata": {
    "application/vnd.databricks.v1+cell": {
     "cellMetadata": {},
     "inputWidgets": {},
     "nuid": "f939e3d9-57ad-4729-bfc9-977b21ef9004",
     "showTitle": false,
     "tableResultSettingsMap": {},
     "title": ""
    }
   },
   "outputs": [],
   "source": [
    "\"reunification_process\": {\n",
    "    \"type\": \"function\",\n",
    "    \"function\": {\n",
    "        \"name\": \"reunification_process\",\n",
    "        \"description\": \"Use this tool to create official family reunion documentation\",\n",
    "        \"parameters\": {\n",
    "            \"type\": \"object\",\n",
    "            \"properties\": {\n",
    "                \"parametrized_value\": {\n",
    "                    \"type\": \"string\",\n",
    "                    \"description\": \"write yes here\"\n",
    "                }\n",
    "            },\n",
    "            \"required\": [\"parametrized_value\"],\n",
    "            \"returns\": {\n",
    "                \"type\": \"string\",\n",
    "                \"description\": \"tool results\"\n",
    "            }\n",
    "        }\n",
    "    }\n",
    "},\n",
    "\n",
    "\"Residence_permit_renewal\": {\n",
    "    \"type\": \"function\",\n",
    "    \"function\": {\n",
    "        \"name\": \"Residence_permit_renewal\",\n",
    "        \"description\": \"Use this tool to create official residence permit renewal\",\n",
    "        \"parameters\": {\n",
    "            \"type\": \"object\",\n",
    "            \"properties\": {\n",
    "                \"parametrized_value\": {\n",
    "                    \"type\": \"string\",\n",
    "                    \"description\": \"write yes here\"\n",
    "                }\n",
    "            },\n",
    "            \"required\": [\"parametrized_value\"],\n",
    "            \"returns\": {\n",
    "                \"type\": \"string\",\n",
    "                \"description\": \"tool results\"\n",
    "            }\n",
    "        }\n",
    "    }\n",
    "},\n",
    "\n",
    "\"apply_housing\": {\n",
    "    \"type\": \"function\",\n",
    "    \"function\": {\n",
    "        \"name\": \"apply_housing\",\n",
    "        \"description\": \"Use this tool to create official housing application\",\n",
    "        \"parameters\": {\n",
    "            \"type\": \"object\",\n",
    "            \"properties\": {\n",
    "                \"parametrized_value\": {\n",
    "                    \"type\": \"string\",\n",
    "                    \"description\": \"write yes here\"\n",
    "                }\n",
    "            },\n",
    "            \"required\": [\"parametrized_value\"],\n",
    "            \"returns\": {\n",
    "                \"type\": \"string\",\n",
    "                \"description\": \"tool results\"\n",
    "            }\n",
    "        }\n",
    "    }\n",
    "}"
   ]
  },
  {
   "cell_type": "code",
   "execution_count": 0,
   "metadata": {
    "application/vnd.databricks.v1+cell": {
     "cellMetadata": {},
     "inputWidgets": {},
     "nuid": "7188057f-0e88-42ed-9823-aad73eb479ac",
     "showTitle": false,
     "tableResultSettingsMap": {},
     "title": ""
    }
   },
   "outputs": [],
   "source": [
    "def reunification_process(parametrized_value: str) -> str:\n",
    "    documentation = \"\"\"\n",
    "    # The Family Reunification Process\n",
    "\n",
    "    The family reunification process involves several steps that allow U.S. citizens and lawful permanent residents (LPRs) to sponsor certain family members for immigration to the United States. Here's a step-by-step guide to the family reunification process.\n",
    "\n",
    "    ### Step 1: Determine Eligibility\n",
    "\n",
    "    * The petitioner (U.S. citizen or LPR) must be at least 18 years old and have a valid U.S. address.\n",
    "    * The petitioner must be a U.S. citizen or LPR and have the required documentation to prove their status (e.g., U.S. passport, birth certificate, or green card).\n",
    "    * The petitioner must be sponsoring a qualifying family member, such as:\n",
    "    * Spouse\n",
    "    * Unmarried child under 21\n",
    "    * Unmarried son or daughter over 21\n",
    "    * Married son or daughter\n",
    "    * Parent (if the petitioner is a U.S. citizen and at least 21 years old)\n",
    "    * Sibling (if the petitioner is a U.S. citizen and at least 21 years old)\n",
    "\n",
    "    ### Step 2: Choose the Correct Visa Category\n",
    "\n",
    "    * The petitioner must determine which visa category their family member falls under:\n",
    "    * Immediate Relative (IR) - spouse, unmarried child under 21, or parent of a U.S. citizen\n",
    "    * Family First Preference (F1) - unmarried son or daughter of a U.S. citizen\n",
    "    * Family Second Preference (F2) - spouse or unmarried child of an LPR\n",
    "    * Family Third Preference (F3) - married son or daughter of a U.S. citizen\n",
    "    * Family Fourth Preference (F4) - sibling of a U.S. citizen\n",
    "\n",
    "    ### Step 3: File the Petition\n",
    "\n",
    "    * The petitioner must file a petition with U.S. Citizenship and Immigration Services (USCIS) using Form I-130, Petition for Alien Relative.\n",
    "    * The petitioner must provide required documentation, such as:\n",
    "    * Proof of U.S. citizenship or LPR status\n",
    "    * Proof of the family relationship (e.g., marriage certificate, birth certificate)\n",
    "    * Proof of the beneficiary's identity and nationality\n",
    "\n",
    "    ### Step 4: Wait for USCIS Processing\n",
    "\n",
    "    * USCIS will review the petition and may request additional evidence or schedule an interview.\n",
    "    * If the petition is approved, USCIS will send a notice to the petitioner and forward the petition to the National Visa Center (NVC).\n",
    "\n",
    "    ### Step 5: NVC Processing\n",
    "\n",
    "    * The NVC will assign a case number and send a notice to the petitioner and beneficiary.\n",
    "    * The beneficiary must submit required documentation, such as:\n",
    "    * Passport\n",
    "    * Birth certificate\n",
    "    * Police certificates from countries where they have lived\n",
    "    * Medical examination results\n",
    "    * The petitioner must submit an Affidavit of Support (Form I-864) to demonstrate their ability to financially support the beneficiary.\n",
    "\n",
    "    ### Step 6: Immigrant Visa Interview\n",
    "\n",
    "    * The beneficiary will be scheduled for an immigrant visa interview at a U.S. embassy or consulate.\n",
    "    * The beneficiary must attend the interview and provide required documentation.\n",
    "    * A consular officer will review the application and conduct an interview to determine the beneficiary's eligibility for an immigrant visa.\n",
    "\n",
    "    ### Step 7: Immigrant Visa Issuance\n",
    "\n",
    "    * If the beneficiary is approved, they will be issued an immigrant visa.\n",
    "    * The beneficiary must enter the United States within a certain timeframe (usually 6 months) and be admitted as a lawful permanent resident.\n",
    "\n",
    "    ### Step 8: Green Card\n",
    "\n",
    "    * After entering the United States, the beneficiary will receive a green card, which is valid for 2 years (for conditional residents) or 10 years (for unconditional residents).\n",
    "    * The beneficiary must comply with the terms of their green card and apply for renewal or removal of conditions as required.\n",
    "\n",
    "    ### Additional Steps for Conditional Residents\n",
    "\n",
    "    * If the beneficiary is a spouse or child of a U.S. citizen or LPR and has been married for less than 2 years, they will be granted conditional permanent resident status.\n",
    "    * To remove the conditions, the beneficiary and their spouse (if applicable) must file a joint petition (Form I-751) within 90 days of the 2-year anniversary of their green card.\n",
    "\n",
    "    The family reunification process can be complex and time-consuming, and processing times can vary significantly depending on the visa category and the workload of USCIS and the NVC. It's recommended to consult with an immigration attorney to ensure a smooth and successful process.\n",
    "    \"\"\"\n",
    "    return documentation\n"
   ]
  },
  {
   "cell_type": "code",
   "execution_count": 0,
   "metadata": {
    "application/vnd.databricks.v1+cell": {
     "cellMetadata": {},
     "inputWidgets": {},
     "nuid": "9242c4fd-8a11-4d00-92a1-2b33a1ee989e",
     "showTitle": false,
     "tableResultSettingsMap": {},
     "title": ""
    }
   },
   "outputs": [],
   "source": [
    "reunification_process\n",
    "Use this tool to create official family reunion documentation\n",
    "\n",
    "\n",
    "Residence_permit_renewal\n",
    "Use this tool to create official residence permit renewal.\n",
    "\n",
    "\n",
    "apply_housing\n",
    "Use this tool to create official housing application"
   ]
  },
  {
   "cell_type": "code",
   "execution_count": 0,
   "metadata": {
    "application/vnd.databricks.v1+cell": {
     "cellMetadata": {
      "byteLimit": 2048000,
      "rowLimit": 10000
     },
     "inputWidgets": {},
     "nuid": "6dd31f3d-10a5-46ce-9bfc-5ac3e007c01d",
     "showTitle": false,
     "tableResultSettingsMap": {},
     "title": ""
    }
   },
   "outputs": [],
   "source": [
    "!pip install databricks-sdk==0.52.0 mlflow==2.22.0 databricks-agents==0.22.0 uv --quiet\n",
    "dbutils.library.restartPython()"
   ]
  },
  {
   "cell_type": "code",
   "execution_count": 0,
   "metadata": {
    "application/vnd.databricks.v1+cell": {
     "cellMetadata": {
      "byteLimit": 2048000,
      "rowLimit": 10000
     },
     "inputWidgets": {},
     "nuid": "09d96720-7e90-4c7d-a752-b5dfc9e954e7",
     "showTitle": false,
     "tableResultSettingsMap": {},
     "title": ""
    }
   },
   "outputs": [],
   "source": [
    "from agent import agent \n",
    "#from agent import agent\n",
    "agent.predict({\"messages\": [{\"role\": \"user\", \"content\": \"Give me a visa attorney that is nearby the coordinates of san francisco\"}]})"
   ]
  },
  {
   "cell_type": "code",
   "execution_count": 0,
   "metadata": {
    "application/vnd.databricks.v1+cell": {
     "cellMetadata": {
      "byteLimit": 2048000,
      "rowLimit": 10000
     },
     "inputWidgets": {},
     "nuid": "fe93caa1-ebf7-4759-afc8-70f4bd819e6a",
     "showTitle": false,
     "tableResultSettingsMap": {},
     "title": ""
    }
   },
   "outputs": [],
   "source": [
    "for event in agent.predict_stream(\n",
    "    {\"messages\": [{\"role\": \"user\", \"content\": \"Can you tell me a joke?\"}]}\n",
    "):\n",
    "    print(event, \"-----------\\n\")"
   ]
  },
  {
   "cell_type": "code",
   "execution_count": 0,
   "metadata": {
    "application/vnd.databricks.v1+cell": {
     "cellMetadata": {
      "byteLimit": 2048000,
      "rowLimit": 10000
     },
     "inputWidgets": {},
     "nuid": "8521f4bc-1338-46bf-ac9f-e46fc7c9e13d",
     "showTitle": false,
     "tableResultSettingsMap": {},
     "title": ""
    }
   },
   "outputs": [],
   "source": [
    "from agent import agent \n",
    "#from agent import agent\n",
    "agent.predict({\"messages\": [{\"role\": \"user\", \"content\": \"Are there any long term housng affordable for studends for 2 adults and a child?\"}]})"
   ]
  },
  {
   "cell_type": "code",
   "execution_count": 0,
   "metadata": {
    "application/vnd.databricks.v1+cell": {
     "cellMetadata": {
      "byteLimit": 2048000,
      "rowLimit": 10000
     },
     "inputWidgets": {},
     "nuid": "d879e872-66fe-49e6-b5f9-eea892329619",
     "showTitle": false,
     "tableResultSettingsMap": {},
     "title": ""
    }
   },
   "outputs": [],
   "source": [
    "from agent import agent \n",
    "#from agent import agent\n",
    "agent.predict({\"messages\": [{\"role\": \"user\", \"content\": \"Give me a vise that is nearby the coordinates of san francisco\"}]})"
   ]
  },
  {
   "cell_type": "code",
   "execution_count": 0,
   "metadata": {
    "application/vnd.databricks.v1+cell": {
     "cellMetadata": {
      "byteLimit": 2048000,
      "rowLimit": 10000
     },
     "inputWidgets": {},
     "nuid": "2d6ffc0b-4315-4e21-b6e5-26c769b6dcdd",
     "showTitle": false,
     "tableResultSettingsMap": {},
     "title": ""
    }
   },
   "outputs": [],
   "source": [
    "ok"
   ]
  },
  {
   "cell_type": "code",
   "execution_count": 0,
   "metadata": {
    "application/vnd.databricks.v1+cell": {
     "cellMetadata": {
      "byteLimit": 2048000,
      "rowLimit": 10000
     },
     "inputWidgets": {},
     "nuid": "045eafe0-63cf-4da5-bdeb-94eeb5433b06",
     "showTitle": false,
     "tableResultSettingsMap": {},
     "title": ""
    }
   },
   "outputs": [],
   "source": [
    "from agent import agent\n",
    "#from agent import agent\n",
    "agent.predict({\"messages\": [{\"role\": \"user\", \"content\": \"What tools you have access?\"}]})"
   ]
  },
  {
   "cell_type": "code",
   "execution_count": 0,
   "metadata": {
    "application/vnd.databricks.v1+cell": {
     "cellMetadata": {
      "byteLimit": 2048000,
      "rowLimit": 10000
     },
     "inputWidgets": {},
     "nuid": "b27b10b2-d08e-4af2-8674-3de28c0ce6ae",
     "showTitle": false,
     "tableResultSettingsMap": {},
     "title": ""
    }
   },
   "outputs": [],
   "source": [
    "for event in agent.predict_stream(\n",
    "    {\"messages\": [{\"role\": \"user\", \"content\": \"Tell me a joke\"}]}\n",
    "):\n",
    "    print(event, \"-----------\\n\")"
   ]
  },
  {
   "cell_type": "code",
   "execution_count": 0,
   "metadata": {
    "application/vnd.databricks.v1+cell": {
     "cellMetadata": {
      "byteLimit": 2048000,
      "rowLimit": 10000
     },
     "inputWidgets": {},
     "nuid": "7ed54a2f-0d57-4d56-b824-1cb966ec9264",
     "showTitle": false,
     "tableResultSettingsMap": {},
     "title": ""
    }
   },
   "outputs": [],
   "source": [
    "# Determine Databricks resources to specify for automatic auth passthrough at deployment time\n",
    "import mlflow\n",
    "from mlflow.models.auth_policy import SystemAuthPolicy, UserAuthPolicy, AuthPolicy\n",
    "\n",
    "from mlflow.models.resources import (\n",
    "  DatabricksVectorSearchIndex,\n",
    "  DatabricksServingEndpoint,\n",
    "  DatabricksSQLWarehouse,\n",
    "  DatabricksFunction,\n",
    "  DatabricksGenieSpace,\n",
    "  DatabricksTable,\n",
    "  DatabricksUCConnection\n",
    ")\n",
    "\n",
    "resources = [DatabricksServingEndpoint(endpoint_name='demo2')]\n",
    "\n",
    "\n",
    "# Specify resources here for system authentication\n",
    "system_auth_policy = SystemAuthPolicy(resources=resources)\n",
    "\n",
    "# Specify the minimal set of API scopes needed for on-behalf-of-user authentication\n",
    "# When deployed, the agent can access Databricks resources and APIs\n",
    "# on behalf of the end user, but only via REST APIs that are covered by the list of\n",
    "# scopes below\n",
    "\n",
    "user_auth_policy = UserAuthPolicy(\n",
    "    api_scopes=[\n",
    "        \"dashboards.genie\"\n",
    "    ]\n",
    ")\n",
    "\n",
    "input_example = {\n",
    "    \"messages\": [\n",
    "        {\n",
    "            \"role\": \"user\",\n",
    "            \"content\": \"Tell me a joke\"\n",
    "        }\n",
    "    ]\n",
    "}\n",
    "\n",
    "with mlflow.start_run():\n",
    "    logged_agent_info = mlflow.pyfunc.log_model(\n",
    "        artifact_path=\"agent\",\n",
    "        python_model=\"agent.py\",\n",
    "        code_paths=[\"./src\"],\n",
    "        input_example=input_example,\n",
    "        pip_requirements=[\n",
    "            \"mlflow==2.22.0\",\n",
    "            \"databricks-sdk==0.52.0\",\n",
    "            \"openai==1.69.0\",\n",
    "            \"pydantic\",\n",
    "        ],\n",
    "        auth_policy=AuthPolicy(\n",
    "            system_auth_policy=system_auth_policy,\n",
    "            user_auth_policy=user_auth_policy\n",
    "        )\n",
    "    )\n"
   ]
  },
  {
   "cell_type": "code",
   "execution_count": 0,
   "metadata": {
    "application/vnd.databricks.v1+cell": {
     "cellMetadata": {
      "byteLimit": 2048000,
      "rowLimit": 10000
     },
     "inputWidgets": {},
     "nuid": "c6386e26-ab02-4007-a551-85a60fb578e3",
     "showTitle": false,
     "tableResultSettingsMap": {},
     "title": ""
    }
   },
   "outputs": [],
   "source": [
    "mlflow.set_registry_uri(\"databricks-uc\")\n",
    "\n",
    "# TODO: define the catalog, schema, and model name for your UC model\n",
    "catalog = \"workspace\"\n",
    "schema = \"default\"\n",
    "model_name = \"refu_genie\"\n",
    "UC_MODEL_NAME = f\"{catalog}.{schema}.{model_name}\"\n",
    "\n",
    "# register the model to UC\n",
    "uc_registered_model_info = mlflow.register_model(\n",
    "    model_uri=logged_agent_info.model_uri, name=UC_MODEL_NAME\n",
    ")"
   ]
  },
  {
   "cell_type": "code",
   "execution_count": 0,
   "metadata": {
    "application/vnd.databricks.v1+cell": {
     "cellMetadata": {
      "byteLimit": 2048000,
      "rowLimit": 10000
     },
     "inputWidgets": {},
     "nuid": "3913b4d8-318c-4cfc-a46d-f4d77b3f298d",
     "showTitle": false,
     "tableResultSettingsMap": {},
     "title": ""
    }
   },
   "outputs": [],
   "source": [
    "from databricks import agents\n",
    "agents.deploy(UC_MODEL_NAME, uc_registered_model_info.version, tags = {\"endpointSource\": \"playground\"})"
   ]
  },
  {
   "cell_type": "markdown",
   "metadata": {
    "application/vnd.databricks.v1+cell": {
     "cellMetadata": {},
     "inputWidgets": {},
     "nuid": "a1cc35ec-ec1b-45b6-b491-c687e04a2354",
     "showTitle": false,
     "tableResultSettingsMap": {},
     "title": ""
    }
   },
   "source": [
    "#MCP"
   ]
  },
  {
   "cell_type": "code",
   "execution_count": 0,
   "metadata": {
    "application/vnd.databricks.v1+cell": {
     "cellMetadata": {
      "byteLimit": 2048000,
      "rowLimit": 10000
     },
     "inputWidgets": {},
     "nuid": "94c165ae-5266-42b5-832f-294e2f3f4752",
     "showTitle": false,
     "tableResultSettingsMap": {},
     "title": ""
    }
   },
   "outputs": [],
   "source": [
    "%pip install -U -qqq llama-index llama-index-llms-databricks mlflow python-dotenv llama-index-tools-mcp\n",
    "%restart_python"
   ]
  },
  {
   "cell_type": "code",
   "execution_count": 0,
   "metadata": {
    "application/vnd.databricks.v1+cell": {
     "cellMetadata": {
      "byteLimit": 2048000,
      "rowLimit": 10000
     },
     "inputWidgets": {},
     "nuid": "6387e953-249b-4e30-a428-7d15356f510e",
     "showTitle": false,
     "tableResultSettingsMap": {},
     "title": ""
    }
   },
   "outputs": [],
   "source": [
    "import pkg_resources\n",
    "for dist in pkg_resources.working_set:\n",
    "    if dist.project_name in [\"llama-index\", \"llama-index-llms-databricks\", \"mlflow\", \"python-dotenv\", \"llama-index-tools-mcp\"]:\n",
    "        print(f\"{dist.project_name}=={dist.version}\")"
   ]
  },
  {
   "cell_type": "code",
   "execution_count": 0,
   "metadata": {
    "application/vnd.databricks.v1+cell": {
     "cellMetadata": {
      "byteLimit": 2048000,
      "rowLimit": 10000
     },
     "inputWidgets": {},
     "nuid": "06ce459b-7b62-481f-9ab8-716acbc18edb",
     "showTitle": false,
     "tableResultSettingsMap": {},
     "title": ""
    }
   },
   "outputs": [],
   "source": [
    "from llama_index.llms.databricks import Databricks\n",
    "from databricks.sdk import WorkspaceClient\n",
    "import mlflow\n",
    "\n",
    "w = WorkspaceClient()\n",
    "\n",
    "tmp_token = w.tokens.create(comment=\"for model serving\", lifetime_seconds=1200).token_value\n",
    "\n",
    "llm = Databricks(\n",
    "    model=\"databricks-llama-4-maverick\",\n",
    "    api_key=tmp_token,\n",
    "    api_base=f\"{w.config.host}/serving-endpoints/\"\n",
    ")\n",
    "     "
   ]
  },
  {
   "cell_type": "code",
   "execution_count": 0,
   "metadata": {
    "application/vnd.databricks.v1+cell": {
     "cellMetadata": {
      "byteLimit": 2048000,
      "rowLimit": 10000
     },
     "inputWidgets": {},
     "nuid": "1bf42bfe-4ee4-4c8e-8df9-fb3368e566a3",
     "showTitle": false,
     "tableResultSettingsMap": {},
     "title": ""
    }
   },
   "outputs": [],
   "source": [
    "from dotenv import load_dotenv\n",
    "from llama_index.tools.mcp import BasicMCPClient, McpToolSpec\n",
    "import os\n",
    "\n",
    "api_key = \"bce361acd0e74ac2ba0cf980002beb473d40f714988d4322a760df0bfca09ff5\"\n",
    "\n",
    "load_dotenv()\n",
    "\n",
    "async def setup_nimble_tools():\n",
    "    mcp_client = BasicMCPClient(\n",
    "        \"https://mcp.nimbleway.com/sse\",\n",
    "        headers={\"Authorization\": f\"Bearer {api_key}\"} #f\"Bearer {os.environ['NIMBLE_API_KEY']}\"\n",
    "    )\n",
    "    \n",
    "    mcp_tool_spec = McpToolSpec(\n",
    "        client=mcp_client,\n",
    "        # Optional: filter to specific tools\n",
    "        # allowed_tools=[\"nimble_web_search\", \"nimble_google_maps_search\"]\n",
    "    )\n",
    "    \n",
    "    tools = await mcp_tool_spec.to_tool_list_async()\n",
    "    \n",
    "    print(f\"Loaded {len(tools)} Nimble tools:\")\n",
    "    for tool in tools:\n",
    "        print(f\"- {tool.metadata.name}: {tool.metadata.description}\")\n",
    "    \n",
    "    return tools\n",
    "\n",
    "# Get the tools\n",
    "nimble_tools = await setup_nimble_tools()\n",
    "nimble_tools"
   ]
  },
  {
   "cell_type": "code",
   "execution_count": 0,
   "metadata": {
    "application/vnd.databricks.v1+cell": {
     "cellMetadata": {
      "byteLimit": 2048000,
      "rowLimit": 10000
     },
     "inputWidgets": {},
     "nuid": "82546d39-6216-4656-ab77-89dac2511371",
     "showTitle": false,
     "tableResultSettingsMap": {},
     "title": ""
    }
   },
   "outputs": [],
   "source": [
    "from llama_index.core.agent.workflow import ReActAgent\n",
    "\n",
    "agent = ReActAgent(\n",
    "    tools=nimble_tools,\n",
    "    llm=llm,\n",
    "    system_prompt=\"\"\"You are a helpful research assistant with access to web scraping and data collection tools. \n",
    "    Always explain your answer in the final output. Tell the user which tools you used and how you found the information.\"\"\",\n",
    ")\n",
    "     "
   ]
  },
  {
   "cell_type": "code",
   "execution_count": 0,
   "metadata": {
    "application/vnd.databricks.v1+cell": {
     "cellMetadata": {
      "byteLimit": 2048000,
      "rowLimit": 10000
     },
     "inputWidgets": {},
     "nuid": "3507b788-5239-4499-ae9b-47e69e605ba5",
     "showTitle": false,
     "tableResultSettingsMap": {},
     "title": ""
    }
   },
   "outputs": [],
   "source": [
    "mlflow.llama_index.autolog()\n",
    "await agent.run(\"What is the best way from Hotel Nikko to Moscow in san Francisco?\")\n",
    "     "
   ]
  }
 ],
 "metadata": {
  "application/vnd.databricks.v1+notebook": {
   "computePreferences": null,
   "dashboards": [],
   "environmentMetadata": {
    "base_environment": "",
    "environment_version": "2"
   },
   "inputWidgetPreferences": null,
   "language": "python",
   "notebookMetadata": {
    "pythonIndentUnit": 4
   },
   "notebookName": "driver",
   "widgets": {}
  },
  "language_info": {
   "name": "python"
  }
 },
 "nbformat": 4,
 "nbformat_minor": 0
}
